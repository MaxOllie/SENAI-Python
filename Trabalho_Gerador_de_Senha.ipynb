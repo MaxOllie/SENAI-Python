{
  "nbformat": 4,
  "nbformat_minor": 0,
  "metadata": {
    "colab": {
      "provenance": []
    },
    "kernelspec": {
      "name": "python3",
      "display_name": "Python 3"
    },
    "language_info": {
      "name": "python"
    }
  },
  "cells": [
    {
      "cell_type": "code",
      "execution_count": 35,
      "metadata": {
        "colab": {
          "base_uri": "https://localhost:8080/"
        },
        "id": "-93M8KerCnHr",
        "outputId": "46876d4c-3432-476c-e827-5f40731897fe"
      },
      "outputs": [
        {
          "output_type": "stream",
          "name": "stdout",
          "text": [
            "Quantos caracteres deseja inserir na senha?  8\n",
            "{.!,Q2Yf\n",
            "Deseja gerar outra senha?(S/N)  N\n",
            "Finalizando...\n"
          ]
        }
      ],
      "source": [
        "from math import nan\n",
        "from random import randint as rd\n",
        "import sys\n",
        "senha = []\n",
        "cont = nan\n",
        "def gerarsenha(base,cont):\n",
        "    base = abs(int(input(\"Quantos caracteres deseja inserir na senha?  \")))\n",
        "    senha = []\n",
        "    mapping = {\n",
        "        10: ['a', 'A'], 11: ['b', 'B'], 12: ['c', 'C'], 13: ['d', 'D'], 14: ['e', 'E'], 15: ['f', 'F'],\n",
        "        16: ['g', 'G'], 17: ['h', 'H'], 18: ['i', 'I'], 19: ['j', 'J'], 20: ['k', 'K'], 21: ['l', 'L'],\n",
        "        22: ['m', 'M'], 23: ['n', 'N'], 24: ['o', 'O'], 25: ['p', 'P'], 26: ['q', 'Q'], 27: ['r', 'R'],\n",
        "        28: ['s', 'S'], 29: ['t', 'T'], 30: ['u', 'U'], 31: ['v', 'V'], 32: ['w', 'W'], 33: ['x', 'X'],\n",
        "        34: ['y', 'Y'], 35: ['z', 'Z']\n",
        "    }\n",
        "    spc_mapping = {\n",
        "        36: '!', 37: '\"', 38: '#', 39: '$', 40: '%', 41: '&', 42: \"'\", 43: '(', 44: ')', 45: '*',\n",
        "        46: '+', 47: ',', 48: '-', 49: '.', 50: '/', 51: ':', 52: ';', 53: '<', 54: '=', 55: '>',\n",
        "        56: '?', 57: '@', 58: '[', 59: '\\\\', 60: ']', 61: '^', 62: '_', 63: '`', 64: '{', 65: '|'\n",
        "    }\n",
        "\n",
        "    for i in range(base):\n",
        "        rand = rd(1, 3)\n",
        "        if rand == 1:\n",
        "            rand = rd(0, 9)\n",
        "        elif rand == 2:\n",
        "            rand = rd(10, 35)\n",
        "            letterCase = rd(0, 1)\n",
        "            rand = mapping[rand][letterCase]\n",
        "        elif rand == 3:\n",
        "            rand = rd(36, 65)\n",
        "            rand = spc_mapping[rand]\n",
        "\n",
        "        pos = rd(0, base-1)\n",
        "        senha.insert(pos, rand)\n",
        "        senha_gerada = ''.join([str(x) for x in senha])\n",
        "    print(senha_gerada)\n",
        "    cont = str(input(\"Deseja gerar outra senha?(S/N)  \").strip().upper())\n",
        "    while cont == \"S\":\n",
        "      gerarsenha(0,\"S\")\n",
        "    if cont == \"N\":\n",
        "      print(\"Finalizando...\")\n",
        "\n",
        "gerarsenha(0,\"S\")\n",
        "\n",
        "\n"
      ]
    }
  ]
}