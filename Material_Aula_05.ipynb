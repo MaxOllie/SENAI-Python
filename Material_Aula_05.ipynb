{
  "nbformat": 4,
  "nbformat_minor": 0,
  "metadata": {
    "colab": {
      "provenance": []
    },
    "kernelspec": {
      "name": "python3",
      "display_name": "Python 3"
    },
    "language_info": {
      "name": "python"
    }
  },
  "cells": [
    {
      "cell_type": "markdown",
      "source": [
        "# Desafio para aprender\n",
        "\n"
      ],
      "metadata": {
        "id": "8xf1pUrf0XM0"
      }
    },
    {
      "cell_type": "markdown",
      "source": [
        "## Valores unicos em uma lista\n",
        "\n",
        "Crie um programa onde o usuário possa digitar vários valores numéricos e cadastre-os em uma lista. Caso o número já exista lá dentro, ele não será adicionado. No final, serão exibidos todos os valores únicos digitados, em ordem crescente. Para quando o usuário for digitar para continuar ou parar o programa, faça a verificação se ele escreveu de letra maiuscula"
      ],
      "metadata": {
        "id": "tk19a4Pc0neE"
      }
    },
    {
      "cell_type": "markdown",
      "source": [
        "### Teste Depuração\n",
        "\n",
        "Adicionei os valores\n",
        "\n",
        "**2, 15, 30, 1, 23, 45**\n",
        "\n",
        "retornou\n",
        "\n",
        "**1, 2, 15, 23, 30, 45**"
      ],
      "metadata": {
        "id": "IhCrHJLL1S1Z"
      }
    },
    {
      "cell_type": "code",
      "execution_count": null,
      "metadata": {
        "colab": {
          "base_uri": "https://localhost:8080/"
        },
        "id": "zbwBCtnw0J76",
        "outputId": "c7352894-8138-4237-c97f-ef4c1f248687"
      },
      "outputs": [
        {
          "output_type": "stream",
          "name": "stdout",
          "text": [
            "Digite o valor a ser adicionado: 2\n",
            "Deseja sair? [S/N]n\n",
            "Digite o valor a ser adicionado: 15\n",
            "Deseja sair? [S/N]n\n",
            "Digite o valor a ser adicionado: 30\n",
            "Deseja sair? [S/N]n\n",
            "Digite o valor a ser adicionado: 1\n",
            "Deseja sair? [S/N]n\n",
            "Digite o valor a ser adicionado: 23\n",
            "Deseja sair? [S/N]n\n",
            "Digite o valor a ser adicionado: 45\n",
            "Deseja sair? [S/N]s\n",
            "45\n",
            "30\n",
            "23\n",
            "15\n",
            "2\n",
            "1\n"
          ]
        }
      ],
      "source": [
        "numeros = []\n",
        "\n",
        "while True:\n",
        "  valor = int(input('Digite o valor a ser adicionado: '))\n",
        "\n",
        "  if valor not in numeros:\n",
        "    numeros.append(valor)\n",
        "\n",
        "  else:\n",
        "    print('Numero ja existente!')\n",
        "\n",
        "\n",
        "  verificar = str(input('Deseja sair? [S/N]')).upper()\n",
        "\n",
        "  if verificar == 'S':\n",
        "    break\n",
        "\n",
        "\n",
        "numeros.sort()\n",
        "numeros.reverse()\n",
        "\n",
        "for i in numeros:\n",
        "  print(i)"
      ]
    },
    {
      "cell_type": "markdown",
      "source": [
        "# Maior e Menor\n",
        "\n",
        "Crie um programa que seu usário adicione quantos números inteiros quiser na lista, no final mostre a lista de forma invertida e mostre o maior e o menor valor da lista.\n",
        "\n",
        "Quero que tanto colocar os números quanto a opção de sair do programa estejam na mesma variável\n",
        "\n",
        "além de falar quantas vezes o número 4 foi digitado e quais números pares foram digitados.\n",
        "\n",
        "Quero que a opção de sair seja na mesma varivel dos números, mas que nenhum texto seja armazenado, apenas números"
      ],
      "metadata": {
        "id": "SZY4e7vbqXJ-"
      }
    },
    {
      "cell_type": "code",
      "source": [
        "numeros = []\n",
        "par = []\n",
        "\n",
        "while True:\n",
        "  verificar = str(input('Digite o valor a ser adicionado (digite \"sair\" para encerrar o programa): '))\n",
        "\n",
        "  try:\n",
        "    adicionar = int(verificar)\n",
        "    numeros.append(adicionar)\n",
        "\n",
        "  except ValueError:\n",
        "    if verificar.lower() == 'sair' or verificar.lower() == 's':\n",
        "      break\n",
        "\n",
        "    else:\n",
        "      print('Por favor digite um valor válido')\n",
        "\n",
        "\n",
        "  finally:\n",
        "    print('\\nObrigado por nos ajudar a aprender')\n",
        "\n",
        "\n",
        "numeros.reverse()\n",
        "print(f'\\n{numeros}')\n",
        "\n",
        "print(f'O maior número digitado foi {max(numeros)} e o menor número digitado foi {min(numeros)}')\n",
        "\n",
        "media = sum(numeros) / len(numeros)\n",
        "print(f'A média dos {len(numeros)} números digitados é igual a {media}')\n",
        "\n",
        "print(f'A quantidade números 4 digitados foi igual a {numeros.count(4)}')\n",
        "\n",
        "for i in numeros:\n",
        "\n",
        "  if i % 2 == 0:\n",
        "    par.append(i)\n",
        "\n",
        "print(f'Você digitou os seguintes números pares: {par} e a quantidade é igual a {len(par)}')"
      ],
      "metadata": {
        "colab": {
          "base_uri": "https://localhost:8080/"
        },
        "id": "Mlz1P6NVqmmS",
        "outputId": "e1bce2a3-dfed-493c-f85d-601bd7885126"
      },
      "execution_count": null,
      "outputs": [
        {
          "output_type": "stream",
          "name": "stdout",
          "text": [
            "Digite o valor a ser adicionado (digite \"sair\" para encerrar o programa): 10\n",
            "\n",
            "Obrigado por estar nos ajudando a aprender\n",
            "Digite o valor a ser adicionado (digite \"sair\" para encerrar o programa): carlos\n",
            "Por favor digite um valor válido\n",
            "\n",
            "Obrigado por estar nos ajudando a aprender\n",
            "Digite o valor a ser adicionado (digite \"sair\" para encerrar o programa): 20\n",
            "\n",
            "Obrigado por estar nos ajudando a aprender\n",
            "Digite o valor a ser adicionado (digite \"sair\" para encerrar o programa): 60\n",
            "\n",
            "Obrigado por estar nos ajudando a aprender\n",
            "Digite o valor a ser adicionado (digite \"sair\" para encerrar o programa): -3\n",
            "\n",
            "Obrigado por estar nos ajudando a aprender\n",
            "Digite o valor a ser adicionado (digite \"sair\" para encerrar o programa): -887\n",
            "\n",
            "Obrigado por estar nos ajudando a aprender\n",
            "Digite o valor a ser adicionado (digite \"sair\" para encerrar o programa): 4\n",
            "\n",
            "Obrigado por estar nos ajudando a aprender\n",
            "Digite o valor a ser adicionado (digite \"sair\" para encerrar o programa): 1001\n",
            "\n",
            "Obrigado por estar nos ajudando a aprender\n",
            "Digite o valor a ser adicionado (digite \"sair\" para encerrar o programa): 4\n",
            "\n",
            "Obrigado por estar nos ajudando a aprender\n",
            "Digite o valor a ser adicionado (digite \"sair\" para encerrar o programa): 1.2\n",
            "Por favor digite um valor válido\n",
            "\n",
            "Obrigado por estar nos ajudando a aprender\n",
            "Digite o valor a ser adicionado (digite \"sair\" para encerrar o programa): sair\n",
            "\n",
            "Obrigado por estar nos ajudando a aprender\n",
            "\n",
            "[4, 1001, 4, -887, -3, 60, 20, 10]\n",
            "O maior número digitado foi 1001 e o menor número digitado foi -887\n",
            "A média dos 8 números digitados é igual a 26.125\n",
            "A quantidade números 4 digitados foi igual a 2\n",
            "Você digitou os seguintes números pares: [4, 4, 60, 20, 10] e a quantidade é igual a 5\n"
          ]
        }
      ]
    },
    {
      "cell_type": "markdown",
      "source": [
        "## Fila em Python\n",
        "\n",
        "Crie um programa onde simule a fila de um banco e utilize a regra do FIFO (First in First out). O inicio do programa se iniciará com 10 pessoas na fila e finalizara quando a pessoa digitar para sair do programa\n",
        "\n",
        "- Mostre quantas pessoas estão esperando na fila\n",
        "\n",
        "- Peça para a pessoa digitar F para adicionar uma pessoa ao final da fila\n",
        "\n",
        "- Peça para a pessoa digitar A para atender a primeira pessoa da fila\n",
        "\n",
        "-  Mostre qual pessoa foi atendida"
      ],
      "metadata": {
        "id": "oZ2mZHzO5wwU"
      }
    },
    {
      "cell_type": "code",
      "source": [
        "import time\n",
        "fila = ['Alexandre','Carla','Bruna','Felipe','Thais','Roberto','Bella','Danilo','Karen','Letícia']\n",
        "print(f\"A fila é:\")\n",
        "for i in range(len(fila)):\n",
        "      print(f\"{fila[i]}\")\n",
        "      i += 1\n",
        "time.sleep(1)\n",
        "acao = str(input(\"\"\"\n",
        "O que deseja fazer?\n",
        "F. Adicione uma pessoa à fila\n",
        "A. Atenda uma pessoa\n",
        "S. Sair  \"\"\").upper().strip())\n",
        "\n",
        "while acao != \"S\" and len(fila) != 0:\n",
        "\n",
        "  if acao == \"F\":\n",
        "    nome = str(input(\"Adicione o nome do cliente  \").title().strip())\n",
        "    if nome not in fila:\n",
        "      fila.append(nome)\n",
        "      print(f\"{nome} foi adicionado(a)\\n\")\n",
        "    else:\n",
        "      print(f\"Essa pessoa já está na fila!\\n\")\n",
        "    print(f\"A fila está assim:\\n\")\n",
        "    for i in range(len(fila)):\n",
        "      print(f\"{fila[i]}\")\n",
        "      i += 1\n",
        "\n",
        "  elif acao == \"A\":\n",
        "      print(f\"\"\"{fila[0]} foi atendido(a)!\\n\"\"\")\n",
        "      fila.pop(0)\n",
        "      print(f\"A fila está assim:\\n\")\n",
        "      for i in range(len(fila)):\n",
        "        print(f\"{fila[i]}\")\n",
        "        i += 1\n",
        "\n",
        "  else:\n",
        "    print(\"Não entendi, por favor digite novamente\\n\")\n",
        "\n",
        "  time.sleep(1)\n",
        "  acao = str(input(\"\"\"O que deseja fazer?\n",
        "F. Adicione uma pessoa à fila\n",
        "A. Atenda uma pessoa\n",
        "S. Sair  \"\"\").upper().strip())\n",
        "  print(f\"\\n\")\n",
        "\n",
        "time.sleep(1)\n",
        "if len(fila) == 0:\n",
        "  print(f\"Não tem ninguém na fila!\\n\")\n",
        "  time.sleep(1)\n",
        "  acao = str(input(\"\"\"O que deseja fazer?\n",
        "F. Adicione uma pessoa à fila\n",
        "A. Atenda uma pessoa\n",
        "S. Sair  \"\"\").upper().strip())"
      ],
      "metadata": {
        "id": "-AXMXJQ85wSD",
        "colab": {
          "base_uri": "https://localhost:8080/"
        },
        "outputId": "ad0e99e1-3182-4d47-e153-b275d987e8e8"
      },
      "execution_count": 13,
      "outputs": [
        {
          "output_type": "stream",
          "name": "stdout",
          "text": [
            "A fila é:\n",
            "Alexandre\n",
            "Carla\n",
            "Bruna\n",
            "Felipe\n",
            "Thais\n",
            "Roberto\n",
            "Bella\n",
            "Danilo\n",
            "Karen\n",
            "Letícia\n",
            "\n",
            "O que deseja fazer?\n",
            "F. Adicione uma pessoa à fila\n",
            "A. Atenda uma pessoa\n",
            "S. Sair  F\n",
            "Adicione o nome do cliente  Alexandre\n",
            "Essa pessoa já está na fila!\n",
            "\n",
            "A fila está assim:\n",
            "\n",
            "Alexandre\n",
            "Carla\n",
            "Bruna\n",
            "Felipe\n",
            "Thais\n",
            "Roberto\n",
            "Bella\n",
            "Danilo\n",
            "Karen\n",
            "Letícia\n",
            "O que deseja fazer?\n",
            "F. Adicione uma pessoa à fila\n",
            "A. Atenda uma pessoa\n",
            "S. Sair  A\n",
            "\n",
            "\n",
            "Alexandre foi atendido(a)!\n",
            "\n",
            "A fila está assim:\n",
            "\n",
            "Carla\n",
            "Bruna\n",
            "Felipe\n",
            "Thais\n",
            "Roberto\n",
            "Bella\n",
            "Danilo\n",
            "Karen\n",
            "Letícia\n",
            "O que deseja fazer?\n",
            "F. Adicione uma pessoa à fila\n",
            "A. Atenda uma pessoa\n",
            "S. Sair  S\n",
            "\n",
            "\n"
          ]
        }
      ]
    },
    {
      "cell_type": "markdown",
      "source": [
        "# Pilha em Python\n",
        "\n",
        "Crie um programa onde será uma pilha de livros e a pessoa pode adicionar o remover um item da nossa pilha, para adicionar ele vai ser o ultimo item da lista e para remover ele será o ultimo item da lista.\n",
        "\n",
        "Tenha cuidado para caso não tenha item na lista para ser removido"
      ],
      "metadata": {
        "id": "2NFf1qJLvoet"
      }
    },
    {
      "cell_type": "markdown",
      "source": [],
      "metadata": {
        "id": "WFeU21_6bMTn"
      }
    },
    {
      "cell_type": "code",
      "source": [
        "import time\n",
        "\n",
        "livros = [\"Pequeno Príncipe, O\",'Guia do Mochileiro das Galáxias, O', \"Sweeney Todd\", \"Médico e o Monstro, O\"]\n",
        "print(f\"\"\"Nossa pilha é \\n\"\"\")\n",
        "for i in range(len(livros)):\n",
        "  print(livros[i])\n",
        "novo = str(input(\"Insira o título que deseja adicionar ou digite R para remover!  \").title().strip())\n",
        "\n",
        "while novo != None:\n",
        "  if novo != \"R\":\n",
        "    if novo not in livros:\n",
        "      livros.append(novo)\n",
        "      print(f\"\"\"{novo} foi inserido na pilha.\"\"\")\n",
        "    else:\n",
        "      print(f\"Este livro já está na pilha!\")\n",
        "    print(f\"\"\"Nossa pilha é \\n\"\"\")\n",
        "    for i in range(len(livros)):\n",
        "      print(livros[i])\n",
        "    time.sleep(1)\n",
        "    novo = str(input(\"Insira o título que deseja adicionar ou digite R para remover!  \").title().strip())\n",
        "\n",
        "  elif len(livros) == 0:\n",
        "    print(\"A pilha está vazia!\")\n",
        "    time.sleep(1)\n",
        "    novo = str(input(\"Insira o título que deseja adicionar ou digite R para remover!  \").title().strip())\n",
        "\n",
        "  elif novo == \"R\" and len(livros) != 0:\n",
        "    print(f\"{livros[-1]} foi removido.\")\n",
        "    time.sleep(1)\n",
        "    livros.pop()\n",
        "    print(f\"Nossa pilha é\\n\")\n",
        "    for i in range(len(livros)):\n",
        "      print(livros[i])\n",
        "    novo = str(input(\"Insira o título que deseja adicionar ou digite R para remover!  \").title().strip())"
      ],
      "metadata": {
        "id": "oGXu04HGv_QW",
        "colab": {
          "base_uri": "https://localhost:8080/",
          "height": 686
        },
        "outputId": "03f518bc-513f-4628-9865-8db953f22703"
      },
      "execution_count": 15,
      "outputs": [
        {
          "output_type": "stream",
          "name": "stdout",
          "text": [
            "Nossa pilha é \n",
            "\n",
            "Pequeno Príncipe, O\n",
            "Guia do Mochileiro das Galáxias, O\n",
            "Sweeney Todd\n",
            "Médico e o Monstro, O\n",
            "Insira o título que deseja adicionar ou digite R para remover!  Sweeney todd\n",
            "Este livro já está na pilha!\n",
            "Nossa pilha é \n",
            "\n",
            "Pequeno Príncipe, O\n",
            "Guia do Mochileiro das Galáxias, O\n",
            "Sweeney Todd\n",
            "Médico e o Monstro, O\n",
            "Insira o título que deseja adicionar ou digite R para remover!  r\n",
            "Médico e o Monstro, O foi removido.\n",
            "Nossa pilha é\n",
            "\n",
            "Pequeno Príncipe, O\n",
            "Guia do Mochileiro das Galáxias, O\n",
            "Sweeney Todd\n"
          ]
        },
        {
          "output_type": "error",
          "ename": "KeyboardInterrupt",
          "evalue": "Interrupted by user",
          "traceback": [
            "\u001b[0;31m---------------------------------------------------------------------------\u001b[0m",
            "\u001b[0;31mKeyboardInterrupt\u001b[0m                         Traceback (most recent call last)",
            "\u001b[0;32m<ipython-input-15-7c9e1f13c965>\u001b[0m in \u001b[0;36m<cell line: 9>\u001b[0;34m()\u001b[0m\n\u001b[1;32m     32\u001b[0m     \u001b[0;32mfor\u001b[0m \u001b[0mi\u001b[0m \u001b[0;32min\u001b[0m \u001b[0mrange\u001b[0m\u001b[0;34m(\u001b[0m\u001b[0mlen\u001b[0m\u001b[0;34m(\u001b[0m\u001b[0mlivros\u001b[0m\u001b[0;34m)\u001b[0m\u001b[0;34m)\u001b[0m\u001b[0;34m:\u001b[0m\u001b[0;34m\u001b[0m\u001b[0;34m\u001b[0m\u001b[0m\n\u001b[1;32m     33\u001b[0m       \u001b[0mprint\u001b[0m\u001b[0;34m(\u001b[0m\u001b[0mlivros\u001b[0m\u001b[0;34m[\u001b[0m\u001b[0mi\u001b[0m\u001b[0;34m]\u001b[0m\u001b[0;34m)\u001b[0m\u001b[0;34m\u001b[0m\u001b[0;34m\u001b[0m\u001b[0m\n\u001b[0;32m---> 34\u001b[0;31m     \u001b[0mnovo\u001b[0m \u001b[0;34m=\u001b[0m \u001b[0mstr\u001b[0m\u001b[0;34m(\u001b[0m\u001b[0minput\u001b[0m\u001b[0;34m(\u001b[0m\u001b[0;34m\"Insira o título que deseja adicionar ou digite R para remover!  \"\u001b[0m\u001b[0;34m)\u001b[0m\u001b[0;34m.\u001b[0m\u001b[0mtitle\u001b[0m\u001b[0;34m(\u001b[0m\u001b[0;34m)\u001b[0m\u001b[0;34m.\u001b[0m\u001b[0mstrip\u001b[0m\u001b[0;34m(\u001b[0m\u001b[0;34m)\u001b[0m\u001b[0;34m)\u001b[0m\u001b[0;34m\u001b[0m\u001b[0;34m\u001b[0m\u001b[0m\n\u001b[0m",
            "\u001b[0;32m/usr/local/lib/python3.10/dist-packages/ipykernel/kernelbase.py\u001b[0m in \u001b[0;36mraw_input\u001b[0;34m(self, prompt)\u001b[0m\n\u001b[1;32m    849\u001b[0m                 \u001b[0;34m\"raw_input was called, but this frontend does not support input requests.\"\u001b[0m\u001b[0;34m\u001b[0m\u001b[0;34m\u001b[0m\u001b[0m\n\u001b[1;32m    850\u001b[0m             )\n\u001b[0;32m--> 851\u001b[0;31m         return self._input_request(str(prompt),\n\u001b[0m\u001b[1;32m    852\u001b[0m             \u001b[0mself\u001b[0m\u001b[0;34m.\u001b[0m\u001b[0m_parent_ident\u001b[0m\u001b[0;34m,\u001b[0m\u001b[0;34m\u001b[0m\u001b[0;34m\u001b[0m\u001b[0m\n\u001b[1;32m    853\u001b[0m             \u001b[0mself\u001b[0m\u001b[0;34m.\u001b[0m\u001b[0m_parent_header\u001b[0m\u001b[0;34m,\u001b[0m\u001b[0;34m\u001b[0m\u001b[0;34m\u001b[0m\u001b[0m\n",
            "\u001b[0;32m/usr/local/lib/python3.10/dist-packages/ipykernel/kernelbase.py\u001b[0m in \u001b[0;36m_input_request\u001b[0;34m(self, prompt, ident, parent, password)\u001b[0m\n\u001b[1;32m    893\u001b[0m             \u001b[0;32mexcept\u001b[0m \u001b[0mKeyboardInterrupt\u001b[0m\u001b[0;34m:\u001b[0m\u001b[0;34m\u001b[0m\u001b[0;34m\u001b[0m\u001b[0m\n\u001b[1;32m    894\u001b[0m                 \u001b[0;31m# re-raise KeyboardInterrupt, to truncate traceback\u001b[0m\u001b[0;34m\u001b[0m\u001b[0;34m\u001b[0m\u001b[0m\n\u001b[0;32m--> 895\u001b[0;31m                 \u001b[0;32mraise\u001b[0m \u001b[0mKeyboardInterrupt\u001b[0m\u001b[0;34m(\u001b[0m\u001b[0;34m\"Interrupted by user\"\u001b[0m\u001b[0;34m)\u001b[0m \u001b[0;32mfrom\u001b[0m \u001b[0;32mNone\u001b[0m\u001b[0;34m\u001b[0m\u001b[0;34m\u001b[0m\u001b[0m\n\u001b[0m\u001b[1;32m    896\u001b[0m             \u001b[0;32mexcept\u001b[0m \u001b[0mException\u001b[0m \u001b[0;32mas\u001b[0m \u001b[0me\u001b[0m\u001b[0;34m:\u001b[0m\u001b[0;34m\u001b[0m\u001b[0;34m\u001b[0m\u001b[0m\n\u001b[1;32m    897\u001b[0m                 \u001b[0mself\u001b[0m\u001b[0;34m.\u001b[0m\u001b[0mlog\u001b[0m\u001b[0;34m.\u001b[0m\u001b[0mwarning\u001b[0m\u001b[0;34m(\u001b[0m\u001b[0;34m\"Invalid Message:\"\u001b[0m\u001b[0;34m,\u001b[0m \u001b[0mexc_info\u001b[0m\u001b[0;34m=\u001b[0m\u001b[0;32mTrue\u001b[0m\u001b[0;34m)\u001b[0m\u001b[0;34m\u001b[0m\u001b[0;34m\u001b[0m\u001b[0m\n",
            "\u001b[0;31mKeyboardInterrupt\u001b[0m: Interrupted by user"
          ]
        }
      ]
    }
  ]
}